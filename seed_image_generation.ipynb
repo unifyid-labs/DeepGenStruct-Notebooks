{
 "cells": [
  {
   "cell_type": "markdown",
   "metadata": {},
   "source": [
    "# Seed Image Generation"
   ]
  },
  {
   "cell_type": "markdown",
   "metadata": {
    "colab_type": "text",
    "id": "a201FQMfD_bm"
   },
   "source": [
    "This notebook shows how to construct a seed dataset, which will then be used to generate a synthetic training dataset. Our work focuses on five Indic scripts: Devanagari, Gujarati, Kannada, Malayalam, and Tamil. In order to create seed images, we work with TTF font files which can be found on the web. We use the font Lohit, and for this font the TTF files can be found here: https://pagure.io/lohit). Although our work focuses on Indic languages, the following approach can easily be extended to other languages as well. "
   ]
  },
  {
   "cell_type": "code",
   "execution_count": 22,
   "metadata": {
    "colab": {},
    "colab_type": "code",
    "id": "yycZv95H5Qbx"
   },
   "outputs": [],
   "source": [
    "# Imports\n",
    "import cv2\n",
    "import numpy as np\n",
    "import matplotlib.pyplot as plt\n",
    "import pandas as pd\n",
    "from scipy import ndimage\n",
    "from PIL import Image, ImageFont, ImageDraw"
   ]
  },
  {
   "cell_type": "markdown",
   "metadata": {},
   "source": [
    "# Helper Functions\n",
    "\n",
    "Both our input seed images (used in synthetic data generation for the training dataset) and handwritten digits (test dataset) will adhere to the standard MNIST format. This means a 28x28 size digit image will be centered in a 20x20 pixel box. We leveraged the code provided in this wonderful blogpost titled \"Tensorflow, MNIST and your own handwritten digits\" to help MNIST-ize our data (https://medium.com/@o.kroeger/tensorflow-mnist-and-your-own-handwritten-digits-4d1cd32bbab4). "
   ]
  },
  {
   "cell_type": "code",
   "execution_count": 5,
   "metadata": {
    "colab": {},
    "colab_type": "code",
    "id": "s58yHZXjQ0Yr"
   },
   "outputs": [],
   "source": [
    "# Helper Functions to MNIST-ize data\n",
    "\n",
    "def getBestShift(img):\n",
    "    '''\n",
    "    Returns the best shift in x and y directions\n",
    "    Input: \n",
    "      img: np.array\n",
    "    Output:\n",
    "      sx: float\n",
    "      sy: float\n",
    "\n",
    "    '''\n",
    "    # Calculate the center of mass coordinates for values in the image array\n",
    "    cy, cx = ndimage.measurements.center_of_mass(img)\n",
    "    rows, cols = img.shape \n",
    "  \n",
    "    # Apply vertical and horizontal shift \n",
    "    sx = np.round(cols/2.0 - cx).astype(int)\n",
    "    sy = np.round(rows/2.0 - cy).astype(int)\n",
    " \n",
    "    return sx, sy\n",
    "\n",
    "def shift(img, sx, sy):\n",
    "    '''\n",
    "    Returns shifted version of the input image\n",
    "    Input: \n",
    "        img: np.array\n",
    "        sx: float\n",
    "        sy: float\n",
    "    Output:\n",
    "        img_new: np.array\n",
    "\n",
    "    '''\n",
    "    rows, cols = img.shape\n",
    "    \n",
    "    M = np.float32([[1, 0, sx], [0, 1, sy]]) # Transformation matrix to shift image\n",
    "    shifted = cv2.warpAffine(img, M,(cols, rows)) \n",
    "  \n",
    "    return shifted\n",
    "\n",
    "def mnistize(img):\n",
    "    '''\n",
    "    Returns the MNIST-ized version of the input image\n",
    "    Input: \n",
    "        img: np.array\n",
    "    Output:\n",
    "        img_new: np.array\n",
    "\n",
    "    '''\n",
    "    # Apply Binary + Otsu thresholding on image\n",
    "    # More info here: https://opencv-python-tutroals.readthedocs.io/en/latest/py_tutorials/py_imgproc/py_thresholding/py_thresholding.html#otsus-binarization\n",
    "    (thresh, img) = cv2.threshold(img, 128, 255, cv2.THRESH_BINARY + cv2.THRESH_OTSU)\n",
    "\n",
    "    # Create tight bounding box for digit\n",
    "    while np.sum(img[0]) == 0:\n",
    "        img = img[1:]\n",
    "\n",
    "    while np.sum(img[:,0]) == 0:\n",
    "        img = np.delete(img,0,1)\n",
    "\n",
    "    while np.sum(img[-1]) == 0:\n",
    "        img = img[:-1]\n",
    "\n",
    "    while np.sum(img[:,-1]) == 0:\n",
    "        img = np.delete(img,-1,1)\n",
    "\n",
    "    rows, cols = img.shape\n",
    "\n",
    "    # Resize image to fit a 20x20 box\n",
    "    if rows > cols:\n",
    "        factor = 20.0/rows\n",
    "        rows = 20\n",
    "        cols = int(round(cols*factor))\n",
    "    else:\n",
    "        factor = 20.0/cols\n",
    "        cols = 20\n",
    "        rows = int(round(rows*factor))\n",
    "    img = cv2.resize(img, (cols, rows))\n",
    "\n",
    "    # Pad rows/columns to form 28x28 image\n",
    "    colsPadding = (int(np.ceil((28 - cols)/2.0)), int(np.floor((28 - cols)/2.0)))\n",
    "    rowsPadding = (int(np.ceil((28 - rows)/2.0)), int(np.floor((28 - rows)/2.0)))\n",
    "    img = np.lib.pad(img, (rowsPadding, colsPadding), 'constant')\n",
    "\n",
    "    # Find and apply best shift \n",
    "    shiftx, shifty = getBestShift(img)\n",
    "    img_new = shift(img, shiftx, shifty)\n",
    "\n",
    "    return img_new"
   ]
  },
  {
   "cell_type": "markdown",
   "metadata": {},
   "source": [
    "We have one more helper function to take in a glyph (character) and create an image in the specified font. We will be using the Lohit family of fonts for the 5 languages."
   ]
  },
  {
   "cell_type": "code",
   "execution_count": 6,
   "metadata": {},
   "outputs": [],
   "source": [
    "def glyph_to_image(glyph, ttf_path, font_size, viz=False):\n",
    "    '''\n",
    "    Returns an MNIST sized version of the input glyph\n",
    "    Input: \n",
    "        glyph: str\n",
    "        ttf_path: str (ttf file path)\n",
    "        font_size: int\n",
    "    Output:\n",
    "        image: np.array \n",
    "    '''\n",
    "    image = Image.new('L', (28, 28))\n",
    "    draw = ImageDraw.Draw(image)\n",
    "\n",
    "    font = ImageFont.truetype(ttf_path, font_size)\n",
    "    draw.text((0, 0), glyph, font=font, fill=(255))  \n",
    " \n",
    "    if(viz): # Optional visualization \n",
    "        plt.imshow(np.array(image))\n",
    "        plt.title(i)\n",
    "        plt.axis('off')  \n",
    "    \n",
    "    image = np.array(image)\n",
    "  \n",
    "    return image"
   ]
  },
  {
   "cell_type": "markdown",
   "metadata": {},
   "source": [
    "# Creating a seed digit dataset"
   ]
  },
  {
   "cell_type": "markdown",
   "metadata": {},
   "source": [
    "We have put together a dataframe of glyphs and their corresponding unicode representation for the 5 languages. For example, the Unicode representations for Kannada digits can be found here: https://unicode.org/charts/PDF/U0C80.pdf. The glyphs will then be rendered using the Lohit font. "
   ]
  },
  {
   "cell_type": "code",
   "execution_count": 18,
   "metadata": {
    "colab": {
     "base_uri": "https://localhost:8080/",
     "height": 202
    },
    "colab_type": "code",
    "id": "f1vqI01aPlBd",
    "outputId": "70008b04-a066-4a3c-87a5-7d39955b2a0d"
   },
   "outputs": [
    {
     "data": {
      "text/html": [
       "<div>\n",
       "<style scoped>\n",
       "    .dataframe tbody tr th:only-of-type {\n",
       "        vertical-align: middle;\n",
       "    }\n",
       "\n",
       "    .dataframe tbody tr th {\n",
       "        vertical-align: top;\n",
       "    }\n",
       "\n",
       "    .dataframe thead th {\n",
       "        text-align: right;\n",
       "    }\n",
       "</style>\n",
       "<table border=\"1\" class=\"dataframe\">\n",
       "  <thead>\n",
       "    <tr style=\"text-align: right;\">\n",
       "      <th></th>\n",
       "      <th>num</th>\n",
       "      <th>unicode</th>\n",
       "      <th>glyph</th>\n",
       "      <th>language</th>\n",
       "    </tr>\n",
       "  </thead>\n",
       "  <tbody>\n",
       "    <tr>\n",
       "      <th>0</th>\n",
       "      <td>0</td>\n",
       "      <td>0CE6</td>\n",
       "      <td>೦</td>\n",
       "      <td>Kannada</td>\n",
       "    </tr>\n",
       "    <tr>\n",
       "      <th>1</th>\n",
       "      <td>1</td>\n",
       "      <td>0CE7</td>\n",
       "      <td>೧</td>\n",
       "      <td>Kannada</td>\n",
       "    </tr>\n",
       "    <tr>\n",
       "      <th>2</th>\n",
       "      <td>2</td>\n",
       "      <td>0CE8</td>\n",
       "      <td>೨</td>\n",
       "      <td>Kannada</td>\n",
       "    </tr>\n",
       "    <tr>\n",
       "      <th>3</th>\n",
       "      <td>3</td>\n",
       "      <td>0CE9</td>\n",
       "      <td>೩</td>\n",
       "      <td>Kannada</td>\n",
       "    </tr>\n",
       "    <tr>\n",
       "      <th>4</th>\n",
       "      <td>4</td>\n",
       "      <td>0CEA</td>\n",
       "      <td>೪</td>\n",
       "      <td>Kannada</td>\n",
       "    </tr>\n",
       "  </tbody>\n",
       "</table>\n",
       "</div>"
      ],
      "text/plain": [
       "   num unicode glyph language\n",
       "0    0    0CE6     ೦  Kannada\n",
       "1    1    0CE7     ೧  Kannada\n",
       "2    2    0CE8     ೨  Kannada\n",
       "3    3    0CE9     ೩  Kannada\n",
       "4    4    0CEA     ೪  Kannada"
      ]
     },
     "execution_count": 18,
     "metadata": {},
     "output_type": "execute_result"
    }
   ],
   "source": [
    "df = pd.read_csv('glyphs/df_unicode_sym.csv')\n",
    "df.head()"
   ]
  },
  {
   "cell_type": "code",
   "execution_count": 19,
   "metadata": {
    "colab": {},
    "colab_type": "code",
    "id": "MVa60udAFkQ8"
   },
   "outputs": [],
   "source": [
    "list_files = ['Lohit-Devanagari.ttf', 'Lohit-Gujarati.ttf', 'Lohit-Kannada.ttf', 'Lohit-Malayalam.ttf', 'Lohit-Tamil.ttf']\n",
    "lang_list = [l.strip('Lohit-').strip('.ttf') for l in list_files]"
   ]
  },
  {
   "cell_type": "code",
   "execution_count": 21,
   "metadata": {
    "colab": {},
    "colab_type": "code",
    "id": "XESurYV01aOm"
   },
   "outputs": [],
   "source": [
    "# Adjust the fontsize as necessary\n",
    "fontsize_dict = {'Kannada': 24, 'Tamil': 22, 'Gujarati': 24, 'Malayalam': 20, 'Devanagari': 22}\n",
    "\n",
    "# Save all the seed images (28x28 numpy arrays) in a dictionary\n",
    "dict_seeds = {}\n",
    "for lang in lang_list:\n",
    "    dict_seeds[lang] = np.zeros((10,28,28))"
   ]
  },
  {
   "cell_type": "code",
   "execution_count": 20,
   "metadata": {
    "colab": {
     "base_uri": "https://localhost:8080/",
     "height": 1304
    },
    "colab_type": "code",
    "id": "hXRJ3O_XCj1L",
    "outputId": "370c7cd7-ad8a-4a34-b31f-b5778ed0f27b"
   },
   "outputs": [
    {
     "data": {
      "image/png": "[encoded data removed]",
      "text/plain": [
       "<Figure size 432x288 with 10 Axes>"
      ]
     },
     "metadata": {
      "needs_background": "light"
     },
     "output_type": "display_data"
    },
    {
     "data": {
      "image/png": "[encoded data removed]",
      "text/plain": [
       "<Figure size 432x288 with 10 Axes>"
      ]
     },
     "metadata": {
      "needs_background": "light"
     },
     "output_type": "display_data"
    },
    {
     "data": {
      "image/png": "[encoded data removed]",
      "text/plain": [
       "<Figure size 432x288 with 10 Axes>"
      ]
     },
     "metadata": {
      "needs_background": "light"
     },
     "output_type": "display_data"
    },
    {
     "data": {
      "image/png": "[encoded data removed]",
      "text/plain": [
       "<Figure size 432x288 with 10 Axes>"
      ]
     },
     "metadata": {
      "needs_background": "light"
     },
     "output_type": "display_data"
    },
    {
     "data": {
      "image/png": "[encoded data removed]",
      "text/plain": [
       "<Figure size 432x288 with 10 Axes>"
      ]
     },
     "metadata": {
      "needs_background": "light"
     },
     "output_type": "display_data"
    }
   ],
   "source": [
    "# Visualize MNIST-ized images of digits\n",
    "for lang in lang_list:\n",
    "    plt.figure()\n",
    "    for i in range(10):\n",
    "        plt.subplot(2, 5, i+1)\n",
    "        plt.imshow(dict_seeds[lang][i,:,:])\n",
    "        plt.title(i)\n",
    "        plt.axis('off')\n",
    "\n",
    "    plt.suptitle(lang)"
   ]
  },
  {
   "cell_type": "markdown",
   "metadata": {},
   "source": [
    "# Save the data"
   ]
  },
  {
   "cell_type": "code",
   "execution_count": 27,
   "metadata": {},
   "outputs": [],
   "source": [
    "for lang in lang_list:\n",
    "    filename = 'seed/seed_images_' + lang + '.npy'\n",
    "    np.save(filename, dict_seeds[lang])"
   ]
  }
 ],
 "metadata": {
  "accelerator": "GPU",
  "colab": {
   "name": "seed_image_generation.ipynb",
   "provenance": [],
   "version": "0.3.2"
  },
  "kernelspec": {
   "display_name": "Python 3",
   "language": "python",
   "name": "python3"
  },
  "language_info": {
   "codemirror_mode": {
    "name": "ipython",
    "version": 3
   },
   "file_extension": ".py",
   "mimetype": "text/x-python",
   "name": "python",
   "nbconvert_exporter": "python",
   "pygments_lexer": "ipython3",
   "version": "3.6.5"
  }
 },
 "nbformat": 4,
 "nbformat_minor": 1
}
